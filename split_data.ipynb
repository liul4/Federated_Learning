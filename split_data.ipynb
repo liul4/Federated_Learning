{
 "cells": [
  {
   "cell_type": "code",
   "execution_count": 3,
   "metadata": {},
   "outputs": [],
   "source": [
    "import os\n",
    "import random\n",
    "import shutil"
   ]
  },
  {
   "cell_type": "code",
   "execution_count": 4,
   "metadata": {},
   "outputs": [
    {
     "name": "stdout",
     "output_type": "stream",
     "text": [
      "Data split completed!\n"
     ]
    }
   ],
   "source": [
    "class_dirs = {\n",
    "    0: \"C:/Users/14871/Downloads/data/train/Normal\",\n",
    "    1: \"C:/Users/14871/Downloads/data/train/Tuberculosis\",\n",
    "    2: \"C:/Users/14871/Downloads/data/train/Pneumonia\"\n",
    "}\n",
    "\n",
    "labels = {'Normal': 0, 'Tuberculosis': 1, 'Pneumonia': 2}\n",
    "# Create output directory for split data\n",
    "output_dir = \"C:/Users/14871/Downloads/data/split_data/\"\n",
    "os.makedirs(output_dir, exist_ok=True)\n",
    "\n",
    "# Create subfolders for each part and each class\n",
    "parts = [\"Part1\", \"Part2\", \"Part3\", \"Part4\"]\n",
    "for part in parts:\n",
    "    part_dir = os.path.join(output_dir, part)\n",
    "    os.makedirs(part_dir, exist_ok=True)\n",
    "    for label in labels.values():\n",
    "        os.makedirs(os.path.join(part_dir, str(label)), exist_ok=True)\n",
    "\n",
    "# Define how many files to assign to each part for each class (custom counts)\n",
    "class_file_count = {\n",
    "    0: {\"Part1\": 3000, \"Part2\": 2500, \"Part3\": 2000, \"Part4\": 1688},  # Normal\n",
    "    1: {\"Part1\": 500, \"Part2\": 400, \"Part3\": 600, \"Part4\": 288},      # Tuberculosis\n",
    "    2: {\"Part1\": 1000, \"Part2\": 1200, \"Part3\": 900, \"Part4\": 1045}    # Pneumonia\n",
    "}\n",
    "\n",
    "# Function to split images for each class\n",
    "def split_class_data(class_dir, class_label, class_count):\n",
    "    # Get all .png and .jpeg files in the class directory\n",
    "    all_files = [f for f in os.listdir(class_dir) if f.lower().endswith(('.png', '.jpeg'))]\n",
    "    \n",
    "    # Shuffle the images randomly\n",
    "    random.shuffle(all_files)\n",
    "\n",
    "    # Split the files into parts\n",
    "    split_files = {}\n",
    "    for part in parts:\n",
    "        num_files = min(class_count.get(part, 0), len(all_files))  # Ensure we don't take more than available\n",
    "        split_files[part] = all_files[:num_files]\n",
    "        all_files = all_files[num_files:]  # Remove selected files\n",
    "\n",
    "    # Copy the files to the corresponding part folders\n",
    "    for part in parts:\n",
    "        for file in split_files[part]:\n",
    "            src_file = os.path.join(class_dir, file)\n",
    "            dst_file = os.path.join(output_dir, part, str(class_label), file)\n",
    "            shutil.copy(src_file, dst_file)\n",
    "\n",
    "# Split the data for each class\n",
    "for class_label, class_dir in class_dirs.items():\n",
    "    split_class_data(class_dir, class_label, class_file_count[class_label])\n",
    "\n",
    "print(\"Data split completed!\")"
   ]
  }
 ],
 "metadata": {
  "kernelspec": {
   "display_name": "Python 3",
   "language": "python",
   "name": "python3"
  },
  "language_info": {
   "codemirror_mode": {
    "name": "ipython",
    "version": 3
   },
   "file_extension": ".py",
   "mimetype": "text/x-python",
   "name": "python",
   "nbconvert_exporter": "python",
   "pygments_lexer": "ipython3",
   "version": "3.9.7"
  }
 },
 "nbformat": 4,
 "nbformat_minor": 2
}
