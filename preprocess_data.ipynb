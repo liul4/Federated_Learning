{
 "cells": [
  {
   "cell_type": "code",
   "execution_count": 1,
   "metadata": {},
   "outputs": [],
   "source": [
    "from PIL import Image\n",
    "import os\n",
    "from torch.utils.data import DataLoader, ConcatDataset, random_split, Dataset\n",
    "from torchvision.transforms import Compose, Normalize, ToTensor, Resize\n",
    "import torch\n",
    "from collections import Counter"
   ]
  },
  {
   "cell_type": "code",
   "execution_count": 2,
   "metadata": {},
   "outputs": [],
   "source": [
    "class CustomDataset(Dataset):\n",
    "    def __init__(self, data_dir, label, transform=None):\n",
    "        self.data_dir = data_dir\n",
    "        self.label = label\n",
    "        self.transform = transform\n",
    "        self.image_paths = [\n",
    "            os.path.join(data_dir, fname) for fname in os.listdir(data_dir)\n",
    "        ]\n",
    "\n",
    "    def __len__(self):\n",
    "        return len(self.image_paths)\n",
    "\n",
    "    def __getitem__(self, idx):\n",
    "        img_path = self.image_paths[idx]\n",
    "        image = Image.open(img_path).convert(\"RGB\")\n",
    "        if self.transform:\n",
    "            image = self.transform(image)\n",
    "        return {\"img\": image, \"label\": self.label}"
   ]
  },
  {
   "cell_type": "code",
   "execution_count": 3,
   "metadata": {},
   "outputs": [],
   "source": [
    "num_partitions = 4\n",
    "\n",
    "def load_data(batch_size: int):\n",
    "    pytorch_transforms = Compose(\n",
    "        [Resize((256, 256)), ToTensor(), Normalize((0.5, 0.5, 0.5), (0.5, 0.5, 0.5))]\n",
    "    )\n",
    "    normal_train_dataset = CustomDataset(\"C:/Users/14871/Downloads/data/train/Normal\", label=0, transform=pytorch_transforms)\n",
    "    tb_train_dataset = CustomDataset(\"C:/Users/14871/Downloads/data/train/Tuberculosis\", label=1, transform=pytorch_transforms)\n",
    "    pneumonia_train_dataset = CustomDataset(\"C:/Users/14871/Downloads/data/train/Pneumonia\", label=2, transform=pytorch_transforms)\n",
    "    full_train_dataset = ConcatDataset([normal_train_dataset, tb_train_dataset, pneumonia_train_dataset])\n",
    "\n",
    "    normal_test_dataset = CustomDataset(\"C:/Users/14871/Downloads/data/test/Normal\", label=0, transform=pytorch_transforms)\n",
    "    tb_test_dataset = CustomDataset(\"C:/Users/14871/Downloads/data/test/Tuberculosis\", label=1, transform=pytorch_transforms)\n",
    "    pneumonia_test_dataset = CustomDataset(\"C:/Users/14871/Downloads/data/test/Pneumonia\", label=2, transform=pytorch_transforms)\n",
    "    test_dataset = ConcatDataset([normal_test_dataset, tb_test_dataset, pneumonia_test_dataset])\n",
    "\n",
    "     # Split the training set into partitions for clients\n",
    "    partition_size = len(full_train_dataset) // num_partitions\n",
    "    partition_sizes = [partition_size] * num_partitions\n",
    "    partition_sizes[-1] += len(full_train_dataset) % num_partitions  # Handle the remainder\n",
    "    partitions = random_split(full_train_dataset, partition_sizes)\n",
    "    \n",
    "    # Retrieve the data partition for the given partition_id\n",
    "    #partition_train_data = partitions[partition_id]\n",
    "    \n",
    "    # Split into training and validation\n",
    "    #train_size = int(0.8 * len(partition_train_data))\n",
    "    #val_size = len(partition_train_data) - train_size\n",
    "    #partition_train, partition_val = random_split(partition_train_data, [train_size, val_size])\n",
    "    \n",
    "    # Create DataLoaders for train, validation, and test\n",
    "    #trainloader = DataLoader(partition_train, batch_size=batch_size, shuffle=True)\n",
    "    #valloader = DataLoader(partition_val, batch_size=batch_size)\n",
    "    #testloader = DataLoader(test_dataset, batch_size=batch_size)\n",
    "    \n",
    "    #return trainloader, valloader, testloader\n",
    "    return partitions, test_dataset"
   ]
  },
  {
   "cell_type": "code",
   "execution_count": 4,
   "metadata": {},
   "outputs": [],
   "source": [
    "# load as pt\n",
    "partitions, test_dataset = load_data(32)\n",
    "\n",
    "for i, _ in enumerate(partitions):\n",
    "    partition_train_data = partitions[i]\n",
    "    \n",
    "    # Split into training and validation\n",
    "    train_size = int(0.8 * len(partition_train_data))\n",
    "    val_size = len(partition_train_data) - train_size\n",
    "    partition_train, partition_val = random_split(partition_train_data, [train_size, val_size])\n",
    "\n",
    "    # Save the dataset as a pickle file\n",
    "    train_dataset_name = \"train\" + str(i)+\"dataset.pt\"\n",
    "    val_dataset_name = \"val\" + str(i)+\"dataset.pt\"\n",
    "    torch.save(partition_train, train_dataset_name)\n",
    "    torch.save(partition_val, val_dataset_name)\n",
    "    torch.save(test_dataset, \"testset.pt\")"
   ]
  },
  {
   "cell_type": "code",
   "execution_count": 5,
   "metadata": {},
   "outputs": [
    {
     "name": "stdout",
     "output_type": "stream",
     "text": [
      "0\n",
      "train_counts Counter({0: 1853, 2: 826, 1: 345})\n",
      "val_counts Counter({0: 493, 2: 178, 1: 85})\n",
      "1\n",
      "train_counts Counter({0: 1856, 2: 808, 1: 360})\n",
      "val_counts Counter({0: 447, 2: 211, 1: 98})\n",
      "2\n",
      "train_counts Counter({0: 1798, 2: 856, 1: 370})\n",
      "val_counts Counter({0: 450, 2: 218, 1: 88})\n",
      "3\n",
      "train_counts Counter({0: 1825, 2: 835, 1: 364})\n",
      "val_counts Counter({0: 466, 2: 213, 1: 78})\n"
     ]
    }
   ],
   "source": [
    "for i in range(4):\n",
    "    # Load the saved dataset from a pickle file\n",
    "    train_dataset_name = \"train\" + str(i)+\"dataset.pt\"\n",
    "    val_dataset_name = \"val\" + str(i)+\"dataset.pt\"\n",
    "\n",
    "    partition_train = torch.load(train_dataset_name)\n",
    "    partition_val = torch.load(val_dataset_name)\n",
    "\n",
    "    trainloader = DataLoader(partition_train, batch_size=32, shuffle=True)\n",
    "    valloader = DataLoader(partition_val, batch_size=32)\n",
    "\n",
    "    # count labels\n",
    "    train_labels = [sample[\"label\"] for sample in trainloader.dataset]\n",
    "    print(i)\n",
    "    #print(f\"train_labels {train_labels}\")\n",
    "    val_labels = [sample[\"label\"] for sample in valloader.dataset]\n",
    "    #print(f\"val_labels {val_labels}\")\n",
    "\n",
    "    train_counts = Counter(train_labels)\n",
    "    print(f\"train_counts {train_counts}\")\n",
    "    val_counts = Counter(val_labels)\n",
    "    print(f\"val_counts {val_counts}\")\n",
    "    "
   ]
  }
 ],
 "metadata": {
  "kernelspec": {
   "display_name": "Python 3",
   "language": "python",
   "name": "python3"
  },
  "language_info": {
   "codemirror_mode": {
    "name": "ipython",
    "version": 3
   },
   "file_extension": ".py",
   "mimetype": "text/x-python",
   "name": "python",
   "nbconvert_exporter": "python",
   "pygments_lexer": "ipython3",
   "version": "3.9.7"
  }
 },
 "nbformat": 4,
 "nbformat_minor": 2
}
